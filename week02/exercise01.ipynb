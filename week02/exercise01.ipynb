{
 "cells": [
  {
   "cell_type": "code",
   "execution_count": null,
   "metadata": {
    "pycharm": {
     "name": "#%%\n"
    }
   },
   "outputs": [],
   "source": [
    "import matplotlib.pyplot as plt\n",
    "\n",
    "def matrix_multiply(A, B):\n",
    "    result = [[sum(a * b for a, b in zip(A_row, B_col)) for B_col in zip(*B)] for A_row in A]\n",
    "    return result\n",
    "\n",
    "def frobenius_norm(A, B):\n",
    "    return sum((a - b)**2 for a_row, b_row in zip(A, B) for a, b in zip(a_row, b_row))**0.5\n",
    "\n",
    "matrix = [\n",
    "    [0.64, 0.32, 0.04],\n",
    "    [0.4, 0.5, 0.1],\n",
    "    [0.25, 0.5, 0.25]\n",
    "]\n",
    "\n",
    "epsilon = 1e-5\n",
    "n = 1\n",
    "convergence_criteria = float('inf')\n",
    "p = []\n",
    "P_N1 = [[1 if i == j else 0 for j in range(len(matrix))] for i in range(len(matrix))]\n",
    "\n",
    "while convergence_criteria >= epsilon:\n",
    "    P_N2 = matrix_multiply(P_N1, matrix)\n",
    "    p.append(P_N2[0][0])\n",
    "    print(f'p {P_N2[0][0]}')\n",
    "\n",
    "    convergence_criteria = frobenius_norm(P_N2, P_N1)\n",
    "    print(f'convergence_criteria {convergence_criteria}')\n",
    "    P_N1 = P_N2\n",
    "    n += 1\n",
    "\n",
    "plt.figure(figsize=(10, 6))\n",
    "plt.plot(range(1, n), p)\n",
    "plt.xlabel('N')\n",
    "plt.ylabel('P^N [0,0]')\n",
    "plt.grid(True)\n",
    "plt.show()"
   ]
  }
 ],
 "metadata": {
  "kernelspec": {
   "display_name": "Python 3 (ipykernel)",
   "language": "python",
   "name": "python3"
  },
  "language_info": {
   "codemirror_mode": {
    "name": "ipython",
    "version": 3
   },
   "file_extension": ".py",
   "mimetype": "text/x-python",
   "name": "python",
   "nbconvert_exporter": "python",
   "pygments_lexer": "ipython3",
   "version": "3.10.7"
  }
 },
 "nbformat": 4,
 "nbformat_minor": 1
}
