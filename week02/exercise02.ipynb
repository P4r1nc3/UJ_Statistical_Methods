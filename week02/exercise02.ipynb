{
 "cells": [
  {
   "cell_type": "code",
   "execution_count": 1,
   "id": "192b6f84",
   "metadata": {},
   "outputs": [
    {
     "name": "stdout",
     "output_type": "stream",
     "text": [
      "Probabilities of visiting states after 10,000 iterations:\n",
      "State 0 (Experimental): 0.5178\n",
      "State 1 (Experimental): 0.4119\n",
      "State 2 (Experimental): 0.0702\n",
      "\n",
      "Probabilities of visiting states after 10,000 iterations:\n",
      "State 0 (Theoretical): 0.5102\n",
      "State 1 (Theoretical): 0.4082\n",
      "State 2 (Theoretical): 0.0816\n"
     ]
    }
   ],
   "source": [
    "import numpy as np\n",
    "\n",
    "def printMatrix(result):\n",
    "    for r in result:\n",
    "        print(r)\n",
    "\n",
    "def iterate(probabilityMatrix, startPoint, length):\n",
    "    nextNode = startPoint\n",
    "    nodeCounter = [0, 0, 0]\n",
    "    for i in range(0, length):\n",
    "        nextNode = np.random.choice(np.arange(0, 3), p=probabilityMatrix[nextNode])\n",
    "        if(i > 1000):\n",
    "            nodeCounter[nextNode] = nodeCounter[nextNode] + 1\n",
    "    nodeCounter[0] = float(nodeCounter[0])/(length - 1000)\n",
    "    nodeCounter[1] = float(nodeCounter[1])/(length - 1000)\n",
    "    nodeCounter[2] = float(nodeCounter[2])/(length - 1000)\n",
    "    return nodeCounter\n",
    "\n",
    "def calculateTheoreticalProbabilities(probabilityMatrix, startPoint, length):\n",
    "    P_N = np.linalg.matrix_power(probabilityMatrix, length)\n",
    "    return P_N[startPoint]\n",
    "\n",
    "matrix = [\n",
    "        [0.64, 0.32, 0.04],\n",
    "        [0.40, 0.50, 0.10],\n",
    "        [0.25, 0.50, 0.25]\n",
    "]\n",
    "\n",
    "result = iterate(matrix, 0, 10**4)\n",
    "print(\"Probabilities of visiting states after 10,000 iterations:\")\n",
    "print(f\"State 0 (Experimental): {result[0]:.4f}\")\n",
    "print(f\"State 1 (Experimental): {result[1]:.4f}\")\n",
    "print(f\"State 2 (Experimental): {result[2]:.4f}\")\n",
    "\n",
    "theoretical_probabilities = calculateTheoreticalProbabilities(matrix, 0, 10**4)\n",
    "print(\"\\nProbabilities of visiting states after 10,000 iterations:\")\n",
    "print(f\"State 0 (Theoretical): {theoretical_probabilities[0]:.4f}\")\n",
    "print(f\"State 1 (Theoretical): {theoretical_probabilities[1]:.4f}\")\n",
    "print(f\"State 2 (Theoretical): {theoretical_probabilities[2]:.4f}\")\n"
   ]
  },
  {
   "cell_type": "code",
   "execution_count": null,
   "id": "50c5e475",
   "metadata": {},
   "outputs": [],
   "source": []
  }
 ],
 "metadata": {
  "kernelspec": {
   "display_name": "Python 3 (ipykernel)",
   "language": "python",
   "name": "python3"
  },
  "language_info": {
   "codemirror_mode": {
    "name": "ipython",
    "version": 3
   },
   "file_extension": ".py",
   "mimetype": "text/x-python",
   "name": "python",
   "nbconvert_exporter": "python",
   "pygments_lexer": "ipython3",
   "version": "3.10.7"
  }
 },
 "nbformat": 4,
 "nbformat_minor": 5
}
